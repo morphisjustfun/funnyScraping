{
 "cells": [
  {
   "cell_type": "code",
   "execution_count": 43,
   "id": "ed561db3-baf7-44fe-93ca-d798f429b592",
   "metadata": {
    "tags": []
   },
   "outputs": [],
   "source": [
    "import matplotlib.pyplot as plt\n",
    "import numpy as np"
   ]
  },
  {
   "cell_type": "code",
   "execution_count": 44,
   "id": "f29c74ea-44e9-4f6f-ab43-fe378a0a4f92",
   "metadata": {},
   "outputs": [
    {
     "name": "stdout",
     "output_type": "stream",
     "text": [
      "[22, 75, 202, 73, 131, 83, 131, 12, 461, 90, 178, 21, 66, 16, 51, 49, 62, 82, 39, 83, 246, 108, 92, 106, 175, 109, 95, 143, 76, 29, 68, 11, 18, 200, 59, 71, 69, 257, 65, 137, 43, 91, 108, 116, 18, 91, 44, 14, 455, 65, 10, 24, 157, 139, 29, 29, 293, 73, 28, 14, 10]\n"
     ]
    }
   ],
   "source": [
    "testFile = open('testTimes.txt')\n",
    "values = []\n",
    "for line in testFile.readlines():\n",
    "    values.append(int(line))\n",
    "print(values)\n",
    "testFile.close()"
   ]
  },
  {
   "cell_type": "code",
   "execution_count": 45,
   "id": "38476592-1bc9-4419-9e99-23b72dc621d9",
   "metadata": {},
   "outputs": [
    {
     "data": {
      "text/plain": [
       "[<matplotlib.lines.Line2D at 0x7e4a60474ba8>]"
      ]
     },
     "execution_count": 45,
     "metadata": {},
     "output_type": "execute_result"
    },
    {
     "data": {
      "image/png": "[encoded data removed]",
      "text/plain": [
       "<Figure size 432x288 with 1 Axes>"
      ]
     },
     "metadata": {
      "needs_background": "light"
     },
     "output_type": "display_data"
    }
   ],
   "source": [
    "plt.plot(values)"
   ]
  },
  {
   "cell_type": "code",
   "execution_count": 46,
   "id": "dcc797f8-720a-4724-9e94-586abc269afe",
   "metadata": {},
   "outputs": [
    {
     "data": {
      "text/plain": [
       "91.94176615305575"
      ]
     },
     "execution_count": 46,
     "metadata": {},
     "output_type": "execute_result"
    }
   ],
   "source": [
    "np.std(values)"
   ]
  },
  {
   "cell_type": "code",
   "execution_count": 47,
   "id": "bf8f6c72-651e-4db8-92ee-4a51c7cc91fa",
   "metadata": {},
   "outputs": [
    {
     "data": {
      "text/plain": [
       "96.91803278688525"
      ]
     },
     "execution_count": 47,
     "metadata": {},
     "output_type": "execute_result"
    }
   ],
   "source": [
    "np.mean(values)"
   ]
  },
  {
   "cell_type": "code",
   "execution_count": 48,
   "id": "97158644-daff-44b8-a8d2-b40cbb145df7",
   "metadata": {},
   "outputs": [
    {
     "data": {
      "text/plain": [
       "73.0"
      ]
     },
     "execution_count": 48,
     "metadata": {},
     "output_type": "execute_result"
    }
   ],
   "source": [
    "np.median(values)"
   ]
  },
  {
   "cell_type": "code",
   "execution_count": 49,
   "id": "cc240009-a99e-43b6-8e9f-3541bce3597f",
   "metadata": {},
   "outputs": [
    {
     "data": {
      "text/plain": [
       "10"
      ]
     },
     "execution_count": 49,
     "metadata": {},
     "output_type": "execute_result"
    }
   ],
   "source": [
    "min(values)"
   ]
  },
  {
   "cell_type": "code",
   "execution_count": 50,
   "id": "e39e8dd9-37a6-4b6a-b481-1debbfcc504b",
   "metadata": {},
   "outputs": [
    {
     "data": {
      "text/plain": [
       "461"
      ]
     },
     "execution_count": 50,
     "metadata": {},
     "output_type": "execute_result"
    }
   ],
   "source": [
    "max(values)"
   ]
  },
  {
   "cell_type": "code",
   "execution_count": 51,
   "id": "c212bf2e-c0ba-4d37-86a9-2364f30d1e19",
   "metadata": {},
   "outputs": [
    {
     "data": {
      "text/plain": [
       "61"
      ]
     },
     "execution_count": 51,
     "metadata": {},
     "output_type": "execute_result"
    }
   ],
   "source": [
    "len(values)"
   ]
  },
  {
   "cell_type": "code",
   "execution_count": null,
   "id": "d073db09-4ee9-47d6-b10d-d4291aad36f1",
   "metadata": {},
   "outputs": [],
   "source": []
  }
 ],
 "metadata": {
  "kernelspec": {
   "display_name": "Python 3 (ipykernel)",
   "language": "python",
   "name": "python3"
  },
  "language_info": {
   "codemirror_mode": {
    "name": "ipython",
    "version": 3
   },
   "file_extension": ".py",
   "mimetype": "text/x-python",
   "name": "python",
   "nbconvert_exporter": "python",
   "pygments_lexer": "ipython3",
   "version": "3.7.3"
  }
 },
 "nbformat": 4,
 "nbformat_minor": 5
}
